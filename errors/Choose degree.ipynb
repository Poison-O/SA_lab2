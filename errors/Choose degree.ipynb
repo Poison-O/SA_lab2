{
 "cells": [
  {
   "cell_type": "code",
   "execution_count": 1,
   "metadata": {},
   "outputs": [],
   "source": [
    "import pandas as pd\n",
    "import numpy as np"
   ]
  },
  {
   "cell_type": "code",
   "execution_count": 2,
   "metadata": {},
   "outputs": [],
   "source": [
    "data = pd.read_csv('errors.csv')"
   ]
  },
  {
   "cell_type": "code",
   "execution_count": 3,
   "metadata": {},
   "outputs": [],
   "source": [
    "data.drop(columns='Unnamed: 0', inplace = True)"
   ]
  },
  {
   "cell_type": "code",
   "execution_count": 4,
   "metadata": {},
   "outputs": [],
   "source": [
    "data.rename(columns={'F1Y1':'F1-Y1', 'F2Y2':'F2-Y2', 'F3Y3':'F3-Y3', 'F4Y4':'F4-Y4'},inplace= True)"
   ]
  },
  {
   "cell_type": "code",
   "execution_count": 6,
   "metadata": {},
   "outputs": [
    {
     "data": {
      "text/html": [
       "<div>\n",
       "<style scoped>\n",
       "    .dataframe tbody tr th:only-of-type {\n",
       "        vertical-align: middle;\n",
       "    }\n",
       "\n",
       "    .dataframe tbody tr th {\n",
       "        vertical-align: top;\n",
       "    }\n",
       "\n",
       "    .dataframe thead th {\n",
       "        text-align: right;\n",
       "    }\n",
       "</style>\n",
       "<table border=\"1\" class=\"dataframe\">\n",
       "  <thead>\n",
       "    <tr style=\"text-align: right;\">\n",
       "      <th></th>\n",
       "      <th>F1-Y1</th>\n",
       "      <th>F2-Y2</th>\n",
       "      <th>F3-Y3</th>\n",
       "      <th>F4-Y4</th>\n",
       "      <th>X1</th>\n",
       "      <th>X2</th>\n",
       "      <th>X3</th>\n",
       "    </tr>\n",
       "  </thead>\n",
       "  <tbody>\n",
       "    <tr>\n",
       "      <th>0</th>\n",
       "      <td>8911.816892</td>\n",
       "      <td>8643.071069</td>\n",
       "      <td>940.793267</td>\n",
       "      <td>964.381324</td>\n",
       "      <td>1.0</td>\n",
       "      <td>1.0</td>\n",
       "      <td>1.0</td>\n",
       "    </tr>\n",
       "    <tr>\n",
       "      <th>1</th>\n",
       "      <td>8892.614268</td>\n",
       "      <td>7634.437710</td>\n",
       "      <td>926.026740</td>\n",
       "      <td>1055.384330</td>\n",
       "      <td>1.0</td>\n",
       "      <td>1.0</td>\n",
       "      <td>2.0</td>\n",
       "    </tr>\n",
       "    <tr>\n",
       "      <th>2</th>\n",
       "      <td>9319.778794</td>\n",
       "      <td>10664.201000</td>\n",
       "      <td>933.654133</td>\n",
       "      <td>968.129138</td>\n",
       "      <td>1.0</td>\n",
       "      <td>1.0</td>\n",
       "      <td>3.0</td>\n",
       "    </tr>\n",
       "    <tr>\n",
       "      <th>3</th>\n",
       "      <td>7283.268765</td>\n",
       "      <td>9731.929799</td>\n",
       "      <td>896.398534</td>\n",
       "      <td>1167.687626</td>\n",
       "      <td>1.0</td>\n",
       "      <td>1.0</td>\n",
       "      <td>4.0</td>\n",
       "    </tr>\n",
       "    <tr>\n",
       "      <th>4</th>\n",
       "      <td>7906.638284</td>\n",
       "      <td>10970.326688</td>\n",
       "      <td>728.596419</td>\n",
       "      <td>974.697729</td>\n",
       "      <td>1.0</td>\n",
       "      <td>1.0</td>\n",
       "      <td>5.0</td>\n",
       "    </tr>\n",
       "    <tr>\n",
       "      <th>...</th>\n",
       "      <td>...</td>\n",
       "      <td>...</td>\n",
       "      <td>...</td>\n",
       "      <td>...</td>\n",
       "      <td>...</td>\n",
       "      <td>...</td>\n",
       "      <td>...</td>\n",
       "    </tr>\n",
       "    <tr>\n",
       "      <th>3370</th>\n",
       "      <td>6504.515835</td>\n",
       "      <td>9641.181726</td>\n",
       "      <td>851.765100</td>\n",
       "      <td>1106.022239</td>\n",
       "      <td>15.0</td>\n",
       "      <td>15.0</td>\n",
       "      <td>11.0</td>\n",
       "    </tr>\n",
       "    <tr>\n",
       "      <th>3371</th>\n",
       "      <td>6754.094279</td>\n",
       "      <td>9409.705520</td>\n",
       "      <td>852.596483</td>\n",
       "      <td>1121.362816</td>\n",
       "      <td>15.0</td>\n",
       "      <td>15.0</td>\n",
       "      <td>12.0</td>\n",
       "    </tr>\n",
       "    <tr>\n",
       "      <th>3372</th>\n",
       "      <td>6783.498479</td>\n",
       "      <td>9479.455037</td>\n",
       "      <td>860.484520</td>\n",
       "      <td>1189.750639</td>\n",
       "      <td>15.0</td>\n",
       "      <td>15.0</td>\n",
       "      <td>13.0</td>\n",
       "    </tr>\n",
       "    <tr>\n",
       "      <th>3373</th>\n",
       "      <td>6614.973001</td>\n",
       "      <td>9401.140096</td>\n",
       "      <td>853.466667</td>\n",
       "      <td>1155.849691</td>\n",
       "      <td>15.0</td>\n",
       "      <td>15.0</td>\n",
       "      <td>14.0</td>\n",
       "    </tr>\n",
       "    <tr>\n",
       "      <th>3374</th>\n",
       "      <td>6897.355018</td>\n",
       "      <td>9852.178209</td>\n",
       "      <td>879.919511</td>\n",
       "      <td>1199.656993</td>\n",
       "      <td>15.0</td>\n",
       "      <td>15.0</td>\n",
       "      <td>15.0</td>\n",
       "    </tr>\n",
       "  </tbody>\n",
       "</table>\n",
       "<p>3375 rows × 7 columns</p>\n",
       "</div>"
      ],
      "text/plain": [
       "            F1-Y1         F2-Y2       F3-Y3        F4-Y4    X1    X2    X3\n",
       "0     8911.816892   8643.071069  940.793267   964.381324   1.0   1.0   1.0\n",
       "1     8892.614268   7634.437710  926.026740  1055.384330   1.0   1.0   2.0\n",
       "2     9319.778794  10664.201000  933.654133   968.129138   1.0   1.0   3.0\n",
       "3     7283.268765   9731.929799  896.398534  1167.687626   1.0   1.0   4.0\n",
       "4     7906.638284  10970.326688  728.596419   974.697729   1.0   1.0   5.0\n",
       "...           ...           ...         ...          ...   ...   ...   ...\n",
       "3370  6504.515835   9641.181726  851.765100  1106.022239  15.0  15.0  11.0\n",
       "3371  6754.094279   9409.705520  852.596483  1121.362816  15.0  15.0  12.0\n",
       "3372  6783.498479   9479.455037  860.484520  1189.750639  15.0  15.0  13.0\n",
       "3373  6614.973001   9401.140096  853.466667  1155.849691  15.0  15.0  14.0\n",
       "3374  6897.355018   9852.178209  879.919511  1199.656993  15.0  15.0  15.0\n",
       "\n",
       "[3375 rows x 7 columns]"
      ]
     },
     "execution_count": 6,
     "metadata": {},
     "output_type": "execute_result"
    }
   ],
   "source": [
    "data"
   ]
  },
  {
   "cell_type": "code",
   "execution_count": 8,
   "metadata": {},
   "outputs": [
    {
     "data": {
      "text/plain": [
       "1730"
      ]
     },
     "execution_count": 8,
     "metadata": {},
     "output_type": "execute_result"
    }
   ],
   "source": [
    "np.argmin(np.sum(data.iloc[:,:4],axis= 1))"
   ]
  },
  {
   "cell_type": "code",
   "execution_count": 9,
   "metadata": {},
   "outputs": [
    {
     "data": {
      "text/plain": [
       "F1-Y1    4436.891128\n",
       "F2-Y2    8221.851686\n",
       "F3-Y3     703.543904\n",
       "F4-Y4     634.328364\n",
       "X1          8.000000\n",
       "X2         11.000000\n",
       "X3          6.000000\n",
       "Name: 1730, dtype: float64"
      ]
     },
     "execution_count": 9,
     "metadata": {},
     "output_type": "execute_result"
    }
   ],
   "source": [
    "data.iloc[1730,:]"
   ]
  },
  {
   "cell_type": "code",
   "execution_count": 23,
   "metadata": {},
   "outputs": [
    {
     "data": {
      "text/plain": [
       "496"
      ]
     },
     "execution_count": 23,
     "metadata": {},
     "output_type": "execute_result"
    }
   ],
   "source": [
    "np.argmin(data.iloc[:,1])"
   ]
  },
  {
   "cell_type": "code",
   "execution_count": 25,
   "metadata": {},
   "outputs": [
    {
     "data": {
      "text/plain": [
       "F1-Y1    7436.295278\n",
       "F2-Y2    6428.782545\n",
       "F3-Y3     886.945872\n",
       "F4-Y4    1224.437694\n",
       "X1          3.000000\n",
       "X2          4.000000\n",
       "X3          2.000000\n",
       "Name: 496, dtype: float64"
      ]
     },
     "execution_count": 25,
     "metadata": {},
     "output_type": "execute_result"
    }
   ],
   "source": [
    "data.iloc[496,:]"
   ]
  },
  {
   "cell_type": "code",
   "execution_count": 10,
   "metadata": {},
   "outputs": [],
   "source": [
    "data = pd.read_csv('errors_lambda.csv')\n",
    "data.drop(columns='Unnamed: 0', inplace = True)\n",
    "data.rename(columns={'F1Y1':'F1-Y1', 'F2Y2':'F2-Y2', 'F3Y3':'F3-Y3', 'F4Y4':'F4-Y4'},inplace= True)"
   ]
  },
  {
   "cell_type": "code",
   "execution_count": 11,
   "metadata": {},
   "outputs": [
    {
     "data": {
      "text/html": [
       "<div>\n",
       "<style scoped>\n",
       "    .dataframe tbody tr th:only-of-type {\n",
       "        vertical-align: middle;\n",
       "    }\n",
       "\n",
       "    .dataframe tbody tr th {\n",
       "        vertical-align: top;\n",
       "    }\n",
       "\n",
       "    .dataframe thead th {\n",
       "        text-align: right;\n",
       "    }\n",
       "</style>\n",
       "<table border=\"1\" class=\"dataframe\">\n",
       "  <thead>\n",
       "    <tr style=\"text-align: right;\">\n",
       "      <th></th>\n",
       "      <th>F1-Y1</th>\n",
       "      <th>F2-Y2</th>\n",
       "      <th>F3-Y3</th>\n",
       "      <th>F4-Y4</th>\n",
       "      <th>X1</th>\n",
       "      <th>X2</th>\n",
       "      <th>X3</th>\n",
       "    </tr>\n",
       "  </thead>\n",
       "  <tbody>\n",
       "    <tr>\n",
       "      <th>0</th>\n",
       "      <td>8330.587595</td>\n",
       "      <td>9260.370480</td>\n",
       "      <td>867.140851</td>\n",
       "      <td>1005.074210</td>\n",
       "      <td>1.0</td>\n",
       "      <td>1.0</td>\n",
       "      <td>1.0</td>\n",
       "    </tr>\n",
       "    <tr>\n",
       "      <th>1</th>\n",
       "      <td>8008.589304</td>\n",
       "      <td>10991.208429</td>\n",
       "      <td>816.305783</td>\n",
       "      <td>1211.084969</td>\n",
       "      <td>1.0</td>\n",
       "      <td>1.0</td>\n",
       "      <td>2.0</td>\n",
       "    </tr>\n",
       "    <tr>\n",
       "      <th>2</th>\n",
       "      <td>8238.818020</td>\n",
       "      <td>10970.607579</td>\n",
       "      <td>821.606386</td>\n",
       "      <td>1278.816627</td>\n",
       "      <td>1.0</td>\n",
       "      <td>1.0</td>\n",
       "      <td>3.0</td>\n",
       "    </tr>\n",
       "    <tr>\n",
       "      <th>3</th>\n",
       "      <td>8279.037009</td>\n",
       "      <td>10610.016361</td>\n",
       "      <td>809.798744</td>\n",
       "      <td>1287.515635</td>\n",
       "      <td>1.0</td>\n",
       "      <td>1.0</td>\n",
       "      <td>4.0</td>\n",
       "    </tr>\n",
       "    <tr>\n",
       "      <th>4</th>\n",
       "      <td>7776.154854</td>\n",
       "      <td>11898.361860</td>\n",
       "      <td>863.024670</td>\n",
       "      <td>1182.505514</td>\n",
       "      <td>1.0</td>\n",
       "      <td>1.0</td>\n",
       "      <td>5.0</td>\n",
       "    </tr>\n",
       "    <tr>\n",
       "      <th>...</th>\n",
       "      <td>...</td>\n",
       "      <td>...</td>\n",
       "      <td>...</td>\n",
       "      <td>...</td>\n",
       "      <td>...</td>\n",
       "      <td>...</td>\n",
       "      <td>...</td>\n",
       "    </tr>\n",
       "    <tr>\n",
       "      <th>3370</th>\n",
       "      <td>6593.072398</td>\n",
       "      <td>9550.390752</td>\n",
       "      <td>787.913911</td>\n",
       "      <td>1181.235334</td>\n",
       "      <td>15.0</td>\n",
       "      <td>15.0</td>\n",
       "      <td>11.0</td>\n",
       "    </tr>\n",
       "    <tr>\n",
       "      <th>3371</th>\n",
       "      <td>6922.122711</td>\n",
       "      <td>10124.928642</td>\n",
       "      <td>864.538839</td>\n",
       "      <td>1163.127700</td>\n",
       "      <td>15.0</td>\n",
       "      <td>15.0</td>\n",
       "      <td>12.0</td>\n",
       "    </tr>\n",
       "    <tr>\n",
       "      <th>3372</th>\n",
       "      <td>7076.559836</td>\n",
       "      <td>10544.052555</td>\n",
       "      <td>921.704009</td>\n",
       "      <td>1159.811974</td>\n",
       "      <td>15.0</td>\n",
       "      <td>15.0</td>\n",
       "      <td>13.0</td>\n",
       "    </tr>\n",
       "    <tr>\n",
       "      <th>3373</th>\n",
       "      <td>8045.371075</td>\n",
       "      <td>11348.236133</td>\n",
       "      <td>842.841120</td>\n",
       "      <td>1133.851454</td>\n",
       "      <td>15.0</td>\n",
       "      <td>15.0</td>\n",
       "      <td>14.0</td>\n",
       "    </tr>\n",
       "    <tr>\n",
       "      <th>3374</th>\n",
       "      <td>7884.782894</td>\n",
       "      <td>10932.599433</td>\n",
       "      <td>833.297778</td>\n",
       "      <td>1147.263773</td>\n",
       "      <td>15.0</td>\n",
       "      <td>15.0</td>\n",
       "      <td>15.0</td>\n",
       "    </tr>\n",
       "  </tbody>\n",
       "</table>\n",
       "<p>3375 rows × 7 columns</p>\n",
       "</div>"
      ],
      "text/plain": [
       "            F1-Y1         F2-Y2       F3-Y3        F4-Y4    X1    X2    X3\n",
       "0     8330.587595   9260.370480  867.140851  1005.074210   1.0   1.0   1.0\n",
       "1     8008.589304  10991.208429  816.305783  1211.084969   1.0   1.0   2.0\n",
       "2     8238.818020  10970.607579  821.606386  1278.816627   1.0   1.0   3.0\n",
       "3     8279.037009  10610.016361  809.798744  1287.515635   1.0   1.0   4.0\n",
       "4     7776.154854  11898.361860  863.024670  1182.505514   1.0   1.0   5.0\n",
       "...           ...           ...         ...          ...   ...   ...   ...\n",
       "3370  6593.072398   9550.390752  787.913911  1181.235334  15.0  15.0  11.0\n",
       "3371  6922.122711  10124.928642  864.538839  1163.127700  15.0  15.0  12.0\n",
       "3372  7076.559836  10544.052555  921.704009  1159.811974  15.0  15.0  13.0\n",
       "3373  8045.371075  11348.236133  842.841120  1133.851454  15.0  15.0  14.0\n",
       "3374  7884.782894  10932.599433  833.297778  1147.263773  15.0  15.0  15.0\n",
       "\n",
       "[3375 rows x 7 columns]"
      ]
     },
     "execution_count": 11,
     "metadata": {},
     "output_type": "execute_result"
    }
   ],
   "source": [
    "data"
   ]
  },
  {
   "cell_type": "code",
   "execution_count": 12,
   "metadata": {},
   "outputs": [
    {
     "data": {
      "text/plain": [
       "2041"
      ]
     },
     "execution_count": 12,
     "metadata": {},
     "output_type": "execute_result"
    }
   ],
   "source": [
    "np.argmin(np.sum(data.iloc[:,:4],axis= 1))"
   ]
  },
  {
   "cell_type": "code",
   "execution_count": 13,
   "metadata": {},
   "outputs": [
    {
     "data": {
      "text/plain": [
       "F1-Y1    6521.487565\n",
       "F2-Y2    6996.992585\n",
       "F3-Y3     932.775163\n",
       "F4-Y4    1207.418450\n",
       "X1         10.000000\n",
       "X2          2.000000\n",
       "X3          2.000000\n",
       "Name: 2041, dtype: float64"
      ]
     },
     "execution_count": 13,
     "metadata": {},
     "output_type": "execute_result"
    }
   ],
   "source": [
    "data.iloc[2041,:]"
   ]
  },
  {
   "cell_type": "code",
   "execution_count": 14,
   "metadata": {},
   "outputs": [],
   "source": [
    "data = pd.read_csv('errors_norm.csv')\n",
    "data.drop(columns='Unnamed: 0', inplace = True)\n",
    "data.rename(columns={'F1Y1':'F1-Y1', 'F2Y2':'F2-Y2', 'F3Y3':'F3-Y3', 'F4Y4':'F4-Y4'},inplace= True)"
   ]
  },
  {
   "cell_type": "code",
   "execution_count": 15,
   "metadata": {},
   "outputs": [
    {
     "data": {
      "text/html": [
       "<div>\n",
       "<style scoped>\n",
       "    .dataframe tbody tr th:only-of-type {\n",
       "        vertical-align: middle;\n",
       "    }\n",
       "\n",
       "    .dataframe tbody tr th {\n",
       "        vertical-align: top;\n",
       "    }\n",
       "\n",
       "    .dataframe thead th {\n",
       "        text-align: right;\n",
       "    }\n",
       "</style>\n",
       "<table border=\"1\" class=\"dataframe\">\n",
       "  <thead>\n",
       "    <tr style=\"text-align: right;\">\n",
       "      <th></th>\n",
       "      <th>F1-Y1</th>\n",
       "      <th>F2-Y2</th>\n",
       "      <th>F3-Y3</th>\n",
       "      <th>F4-Y4</th>\n",
       "      <th>X1</th>\n",
       "      <th>X2</th>\n",
       "      <th>X3</th>\n",
       "    </tr>\n",
       "  </thead>\n",
       "  <tbody>\n",
       "    <tr>\n",
       "      <th>0</th>\n",
       "      <td>8525.955207</td>\n",
       "      <td>7632.262993</td>\n",
       "      <td>771.378654</td>\n",
       "      <td>792.328817</td>\n",
       "      <td>1.0</td>\n",
       "      <td>1.0</td>\n",
       "      <td>1.0</td>\n",
       "    </tr>\n",
       "    <tr>\n",
       "      <th>1</th>\n",
       "      <td>9945.726661</td>\n",
       "      <td>7822.381198</td>\n",
       "      <td>1172.254575</td>\n",
       "      <td>630.707787</td>\n",
       "      <td>1.0</td>\n",
       "      <td>1.0</td>\n",
       "      <td>2.0</td>\n",
       "    </tr>\n",
       "    <tr>\n",
       "      <th>2</th>\n",
       "      <td>7456.070603</td>\n",
       "      <td>6423.395148</td>\n",
       "      <td>1038.429510</td>\n",
       "      <td>745.688087</td>\n",
       "      <td>1.0</td>\n",
       "      <td>1.0</td>\n",
       "      <td>3.0</td>\n",
       "    </tr>\n",
       "    <tr>\n",
       "      <th>3</th>\n",
       "      <td>6631.763206</td>\n",
       "      <td>6825.664511</td>\n",
       "      <td>1162.036399</td>\n",
       "      <td>751.168443</td>\n",
       "      <td>1.0</td>\n",
       "      <td>1.0</td>\n",
       "      <td>4.0</td>\n",
       "    </tr>\n",
       "    <tr>\n",
       "      <th>4</th>\n",
       "      <td>6493.428475</td>\n",
       "      <td>6560.006539</td>\n",
       "      <td>1079.322534</td>\n",
       "      <td>723.545045</td>\n",
       "      <td>1.0</td>\n",
       "      <td>1.0</td>\n",
       "      <td>5.0</td>\n",
       "    </tr>\n",
       "    <tr>\n",
       "      <th>...</th>\n",
       "      <td>...</td>\n",
       "      <td>...</td>\n",
       "      <td>...</td>\n",
       "      <td>...</td>\n",
       "      <td>...</td>\n",
       "      <td>...</td>\n",
       "      <td>...</td>\n",
       "    </tr>\n",
       "    <tr>\n",
       "      <th>3370</th>\n",
       "      <td>1667.690274</td>\n",
       "      <td>1671.445926</td>\n",
       "      <td>299.606130</td>\n",
       "      <td>114.866858</td>\n",
       "      <td>15.0</td>\n",
       "      <td>15.0</td>\n",
       "      <td>11.0</td>\n",
       "    </tr>\n",
       "    <tr>\n",
       "      <th>3371</th>\n",
       "      <td>1675.880099</td>\n",
       "      <td>1506.817594</td>\n",
       "      <td>301.341781</td>\n",
       "      <td>116.504051</td>\n",
       "      <td>15.0</td>\n",
       "      <td>15.0</td>\n",
       "      <td>12.0</td>\n",
       "    </tr>\n",
       "    <tr>\n",
       "      <th>3372</th>\n",
       "      <td>1543.521518</td>\n",
       "      <td>1358.642696</td>\n",
       "      <td>268.220001</td>\n",
       "      <td>129.276933</td>\n",
       "      <td>15.0</td>\n",
       "      <td>15.0</td>\n",
       "      <td>13.0</td>\n",
       "    </tr>\n",
       "    <tr>\n",
       "      <th>3373</th>\n",
       "      <td>1421.411649</td>\n",
       "      <td>1407.057882</td>\n",
       "      <td>277.049115</td>\n",
       "      <td>118.738326</td>\n",
       "      <td>15.0</td>\n",
       "      <td>15.0</td>\n",
       "      <td>14.0</td>\n",
       "    </tr>\n",
       "    <tr>\n",
       "      <th>3374</th>\n",
       "      <td>1249.452631</td>\n",
       "      <td>1366.068560</td>\n",
       "      <td>361.721061</td>\n",
       "      <td>148.578340</td>\n",
       "      <td>15.0</td>\n",
       "      <td>15.0</td>\n",
       "      <td>15.0</td>\n",
       "    </tr>\n",
       "  </tbody>\n",
       "</table>\n",
       "<p>3375 rows × 7 columns</p>\n",
       "</div>"
      ],
      "text/plain": [
       "            F1-Y1        F2-Y2        F3-Y3       F4-Y4    X1    X2    X3\n",
       "0     8525.955207  7632.262993   771.378654  792.328817   1.0   1.0   1.0\n",
       "1     9945.726661  7822.381198  1172.254575  630.707787   1.0   1.0   2.0\n",
       "2     7456.070603  6423.395148  1038.429510  745.688087   1.0   1.0   3.0\n",
       "3     6631.763206  6825.664511  1162.036399  751.168443   1.0   1.0   4.0\n",
       "4     6493.428475  6560.006539  1079.322534  723.545045   1.0   1.0   5.0\n",
       "...           ...          ...          ...         ...   ...   ...   ...\n",
       "3370  1667.690274  1671.445926   299.606130  114.866858  15.0  15.0  11.0\n",
       "3371  1675.880099  1506.817594   301.341781  116.504051  15.0  15.0  12.0\n",
       "3372  1543.521518  1358.642696   268.220001  129.276933  15.0  15.0  13.0\n",
       "3373  1421.411649  1407.057882   277.049115  118.738326  15.0  15.0  14.0\n",
       "3374  1249.452631  1366.068560   361.721061  148.578340  15.0  15.0  15.0\n",
       "\n",
       "[3375 rows x 7 columns]"
      ]
     },
     "execution_count": 15,
     "metadata": {},
     "output_type": "execute_result"
    }
   ],
   "source": [
    "data"
   ]
  },
  {
   "cell_type": "code",
   "execution_count": 16,
   "metadata": {},
   "outputs": [
    {
     "data": {
      "text/plain": [
       "3143"
      ]
     },
     "execution_count": 16,
     "metadata": {},
     "output_type": "execute_result"
    }
   ],
   "source": [
    "np.argmin(np.sum(data.iloc[:,:4],axis= 1))"
   ]
  },
  {
   "cell_type": "code",
   "execution_count": 17,
   "metadata": {},
   "outputs": [
    {
     "data": {
      "text/plain": [
       "F1-Y1    1199.603820\n",
       "F2-Y2    1017.241855\n",
       "F3-Y3     359.215728\n",
       "F4-Y4     107.192388\n",
       "X1         14.000000\n",
       "X2         15.000000\n",
       "X3          9.000000\n",
       "Name: 3143, dtype: float64"
      ]
     },
     "execution_count": 17,
     "metadata": {},
     "output_type": "execute_result"
    }
   ],
   "source": [
    "data.iloc[3143,:]"
   ]
  },
  {
   "cell_type": "code",
   "execution_count": 18,
   "metadata": {},
   "outputs": [],
   "source": [
    "data = pd.read_csv('errors_norm_lambda.csv')\n",
    "data.drop(columns='Unnamed: 0', inplace = True)\n",
    "data.rename(columns={'F1Y1':'F1-Y1', 'F2Y2':'F2-Y2', 'F3Y3':'F3-Y3', 'F4Y4':'F4-Y4'},inplace= True)"
   ]
  },
  {
   "cell_type": "code",
   "execution_count": 19,
   "metadata": {},
   "outputs": [
    {
     "data": {
      "text/html": [
       "<div>\n",
       "<style scoped>\n",
       "    .dataframe tbody tr th:only-of-type {\n",
       "        vertical-align: middle;\n",
       "    }\n",
       "\n",
       "    .dataframe tbody tr th {\n",
       "        vertical-align: top;\n",
       "    }\n",
       "\n",
       "    .dataframe thead th {\n",
       "        text-align: right;\n",
       "    }\n",
       "</style>\n",
       "<table border=\"1\" class=\"dataframe\">\n",
       "  <thead>\n",
       "    <tr style=\"text-align: right;\">\n",
       "      <th></th>\n",
       "      <th>F1-Y1</th>\n",
       "      <th>F2-Y2</th>\n",
       "      <th>F3-Y3</th>\n",
       "      <th>F4-Y4</th>\n",
       "      <th>X1</th>\n",
       "      <th>X2</th>\n",
       "      <th>X3</th>\n",
       "    </tr>\n",
       "  </thead>\n",
       "  <tbody>\n",
       "    <tr>\n",
       "      <th>0</th>\n",
       "      <td>8183.942534</td>\n",
       "      <td>7659.169310</td>\n",
       "      <td>825.811240</td>\n",
       "      <td>845.019475</td>\n",
       "      <td>1.0</td>\n",
       "      <td>1.0</td>\n",
       "      <td>1.0</td>\n",
       "    </tr>\n",
       "    <tr>\n",
       "      <th>1</th>\n",
       "      <td>7253.778279</td>\n",
       "      <td>8030.099270</td>\n",
       "      <td>823.977324</td>\n",
       "      <td>689.532223</td>\n",
       "      <td>1.0</td>\n",
       "      <td>1.0</td>\n",
       "      <td>2.0</td>\n",
       "    </tr>\n",
       "    <tr>\n",
       "      <th>2</th>\n",
       "      <td>6439.218035</td>\n",
       "      <td>6871.475277</td>\n",
       "      <td>824.050557</td>\n",
       "      <td>540.472773</td>\n",
       "      <td>1.0</td>\n",
       "      <td>1.0</td>\n",
       "      <td>3.0</td>\n",
       "    </tr>\n",
       "    <tr>\n",
       "      <th>3</th>\n",
       "      <td>6501.844295</td>\n",
       "      <td>5953.407773</td>\n",
       "      <td>759.121844</td>\n",
       "      <td>547.370889</td>\n",
       "      <td>1.0</td>\n",
       "      <td>1.0</td>\n",
       "      <td>4.0</td>\n",
       "    </tr>\n",
       "    <tr>\n",
       "      <th>4</th>\n",
       "      <td>5391.485734</td>\n",
       "      <td>5703.896287</td>\n",
       "      <td>800.507102</td>\n",
       "      <td>441.276666</td>\n",
       "      <td>1.0</td>\n",
       "      <td>1.0</td>\n",
       "      <td>5.0</td>\n",
       "    </tr>\n",
       "    <tr>\n",
       "      <th>...</th>\n",
       "      <td>...</td>\n",
       "      <td>...</td>\n",
       "      <td>...</td>\n",
       "      <td>...</td>\n",
       "      <td>...</td>\n",
       "      <td>...</td>\n",
       "      <td>...</td>\n",
       "    </tr>\n",
       "    <tr>\n",
       "      <th>3370</th>\n",
       "      <td>2338.434907</td>\n",
       "      <td>4096.201612</td>\n",
       "      <td>369.192411</td>\n",
       "      <td>115.087782</td>\n",
       "      <td>15.0</td>\n",
       "      <td>15.0</td>\n",
       "      <td>11.0</td>\n",
       "    </tr>\n",
       "    <tr>\n",
       "      <th>3371</th>\n",
       "      <td>1867.641834</td>\n",
       "      <td>4096.852341</td>\n",
       "      <td>381.621721</td>\n",
       "      <td>126.994382</td>\n",
       "      <td>15.0</td>\n",
       "      <td>15.0</td>\n",
       "      <td>12.0</td>\n",
       "    </tr>\n",
       "    <tr>\n",
       "      <th>3372</th>\n",
       "      <td>1754.909308</td>\n",
       "      <td>4425.594726</td>\n",
       "      <td>401.329005</td>\n",
       "      <td>92.162628</td>\n",
       "      <td>15.0</td>\n",
       "      <td>15.0</td>\n",
       "      <td>13.0</td>\n",
       "    </tr>\n",
       "    <tr>\n",
       "      <th>3373</th>\n",
       "      <td>1657.623524</td>\n",
       "      <td>3611.805596</td>\n",
       "      <td>383.429382</td>\n",
       "      <td>42.920595</td>\n",
       "      <td>15.0</td>\n",
       "      <td>15.0</td>\n",
       "      <td>14.0</td>\n",
       "    </tr>\n",
       "    <tr>\n",
       "      <th>3374</th>\n",
       "      <td>0.012246</td>\n",
       "      <td>0.026801</td>\n",
       "      <td>0.005673</td>\n",
       "      <td>0.004441</td>\n",
       "      <td>15.0</td>\n",
       "      <td>15.0</td>\n",
       "      <td>15.0</td>\n",
       "    </tr>\n",
       "  </tbody>\n",
       "</table>\n",
       "<p>3375 rows × 7 columns</p>\n",
       "</div>"
      ],
      "text/plain": [
       "            F1-Y1        F2-Y2       F3-Y3       F4-Y4    X1    X2    X3\n",
       "0     8183.942534  7659.169310  825.811240  845.019475   1.0   1.0   1.0\n",
       "1     7253.778279  8030.099270  823.977324  689.532223   1.0   1.0   2.0\n",
       "2     6439.218035  6871.475277  824.050557  540.472773   1.0   1.0   3.0\n",
       "3     6501.844295  5953.407773  759.121844  547.370889   1.0   1.0   4.0\n",
       "4     5391.485734  5703.896287  800.507102  441.276666   1.0   1.0   5.0\n",
       "...           ...          ...         ...         ...   ...   ...   ...\n",
       "3370  2338.434907  4096.201612  369.192411  115.087782  15.0  15.0  11.0\n",
       "3371  1867.641834  4096.852341  381.621721  126.994382  15.0  15.0  12.0\n",
       "3372  1754.909308  4425.594726  401.329005   92.162628  15.0  15.0  13.0\n",
       "3373  1657.623524  3611.805596  383.429382   42.920595  15.0  15.0  14.0\n",
       "3374     0.012246     0.026801    0.005673    0.004441  15.0  15.0  15.0\n",
       "\n",
       "[3375 rows x 7 columns]"
      ]
     },
     "execution_count": 19,
     "metadata": {},
     "output_type": "execute_result"
    }
   ],
   "source": [
    "data"
   ]
  },
  {
   "cell_type": "code",
   "execution_count": 20,
   "metadata": {},
   "outputs": [
    {
     "data": {
      "text/plain": [
       "449"
      ]
     },
     "execution_count": 20,
     "metadata": {},
     "output_type": "execute_result"
    }
   ],
   "source": [
    "np.argmin(np.sum(data.iloc[:,:4],axis= 1))"
   ]
  },
  {
   "cell_type": "code",
   "execution_count": 21,
   "metadata": {},
   "outputs": [
    {
     "data": {
      "text/plain": [
       "F1-Y1     0.012128\n",
       "F2-Y2     0.025762\n",
       "F3-Y3     0.005776\n",
       "F4-Y4     0.004243\n",
       "X1        2.000000\n",
       "X2       15.000000\n",
       "X3       15.000000\n",
       "Name: 449, dtype: float64"
      ]
     },
     "execution_count": 21,
     "metadata": {},
     "output_type": "execute_result"
    }
   ],
   "source": [
    "data.iloc[449,:]"
   ]
  },
  {
   "cell_type": "code",
   "execution_count": null,
   "metadata": {},
   "outputs": [],
   "source": []
  }
 ],
 "metadata": {
  "kernelspec": {
   "display_name": "Python 3",
   "language": "python",
   "name": "python3"
  },
  "language_info": {
   "codemirror_mode": {
    "name": "ipython",
    "version": 3
   },
   "file_extension": ".py",
   "mimetype": "text/x-python",
   "name": "python",
   "nbconvert_exporter": "python",
   "pygments_lexer": "ipython3",
   "version": "3.7.7"
  }
 },
 "nbformat": 4,
 "nbformat_minor": 4
}
